{
 "cells": [
  {
   "cell_type": "code",
   "execution_count": 1,
   "id": "43cbb659",
   "metadata": {},
   "outputs": [],
   "source": [
    "import pandas as pd\n",
    "import numpy as np \n",
    "import pandas as pd \n",
    "import matplotlib.pyplot as plt \n",
    "%matplotlib inline\n",
    "import seaborn as sns\n",
    "import datetime\n",
    "import time\n",
    "import warnings\n",
    "warnings.filterwarnings('ignore')"
   ]
  },
  {
   "cell_type": "code",
   "execution_count": 2,
   "id": "b96861b8",
   "metadata": {},
   "outputs": [
    {
     "name": "stdout",
     "output_type": "stream",
     "text": [
      "<class 'pandas.core.frame.DataFrame'>\n",
      "RangeIndex: 2666 entries, 0 to 2665\n",
      "Data columns (total 20 columns):\n",
      " #   Column                  Non-Null Count  Dtype  \n",
      "---  ------                  --------------  -----  \n",
      " 0   State                   2666 non-null   object \n",
      " 1   Account length          2666 non-null   int64  \n",
      " 2   Area code               2666 non-null   int64  \n",
      " 3   International plan      2666 non-null   object \n",
      " 4   Voice mail plan         2666 non-null   object \n",
      " 5   Number vmail messages   2666 non-null   int64  \n",
      " 6   Total day minutes       2666 non-null   float64\n",
      " 7   Total day calls         2666 non-null   int64  \n",
      " 8   Total day charge        2666 non-null   float64\n",
      " 9   Total eve minutes       2666 non-null   float64\n",
      " 10  Total eve calls         2666 non-null   int64  \n",
      " 11  Total eve charge        2666 non-null   float64\n",
      " 12  Total night minutes     2666 non-null   float64\n",
      " 13  Total night calls       2666 non-null   int64  \n",
      " 14  Total night charge      2666 non-null   float64\n",
      " 15  Total intl minutes      2666 non-null   float64\n",
      " 16  Total intl calls        2666 non-null   int64  \n",
      " 17  Total intl charge       2666 non-null   float64\n",
      " 18  Customer service calls  2666 non-null   int64  \n",
      " 19  Churn                   2666 non-null   bool   \n",
      "dtypes: bool(1), float64(8), int64(8), object(3)\n",
      "memory usage: 367.2+ KB\n"
     ]
    }
   ],
   "source": [
    "data = pd.read_csv(\"Python_Case_Studytop (1).csv\")\n",
    "data.info()"
   ]
  },
  {
   "cell_type": "markdown",
   "id": "b5a9ad17",
   "metadata": {},
   "source": [
    "#1) load the given dataset"
   ]
  },
  {
   "cell_type": "code",
   "execution_count": 3,
   "id": "7492f544",
   "metadata": {},
   "outputs": [
    {
     "data": {
      "text/html": [
       "<div>\n",
       "<style scoped>\n",
       "    .dataframe tbody tr th:only-of-type {\n",
       "        vertical-align: middle;\n",
       "    }\n",
       "\n",
       "    .dataframe tbody tr th {\n",
       "        vertical-align: top;\n",
       "    }\n",
       "\n",
       "    .dataframe thead th {\n",
       "        text-align: right;\n",
       "    }\n",
       "</style>\n",
       "<table border=\"1\" class=\"dataframe\">\n",
       "  <thead>\n",
       "    <tr style=\"text-align: right;\">\n",
       "      <th></th>\n",
       "      <th>State</th>\n",
       "      <th>Account length</th>\n",
       "      <th>Area code</th>\n",
       "      <th>International plan</th>\n",
       "      <th>Voice mail plan</th>\n",
       "      <th>Number vmail messages</th>\n",
       "      <th>Total day minutes</th>\n",
       "      <th>Total day calls</th>\n",
       "      <th>Total day charge</th>\n",
       "      <th>Total eve minutes</th>\n",
       "      <th>Total eve calls</th>\n",
       "      <th>Total eve charge</th>\n",
       "      <th>Total night minutes</th>\n",
       "      <th>Total night calls</th>\n",
       "      <th>Total night charge</th>\n",
       "      <th>Total intl minutes</th>\n",
       "      <th>Total intl calls</th>\n",
       "      <th>Total intl charge</th>\n",
       "      <th>Customer service calls</th>\n",
       "      <th>Churn</th>\n",
       "    </tr>\n",
       "  </thead>\n",
       "  <tbody>\n",
       "    <tr>\n",
       "      <th>0</th>\n",
       "      <td>KS</td>\n",
       "      <td>128</td>\n",
       "      <td>415</td>\n",
       "      <td>No</td>\n",
       "      <td>Yes</td>\n",
       "      <td>25</td>\n",
       "      <td>265.1</td>\n",
       "      <td>110</td>\n",
       "      <td>45.07</td>\n",
       "      <td>197.4</td>\n",
       "      <td>99</td>\n",
       "      <td>16.78</td>\n",
       "      <td>244.7</td>\n",
       "      <td>91</td>\n",
       "      <td>11.01</td>\n",
       "      <td>10.0</td>\n",
       "      <td>3</td>\n",
       "      <td>2.70</td>\n",
       "      <td>1</td>\n",
       "      <td>False</td>\n",
       "    </tr>\n",
       "    <tr>\n",
       "      <th>1</th>\n",
       "      <td>OH</td>\n",
       "      <td>107</td>\n",
       "      <td>415</td>\n",
       "      <td>No</td>\n",
       "      <td>Yes</td>\n",
       "      <td>26</td>\n",
       "      <td>161.6</td>\n",
       "      <td>123</td>\n",
       "      <td>27.47</td>\n",
       "      <td>195.5</td>\n",
       "      <td>103</td>\n",
       "      <td>16.62</td>\n",
       "      <td>254.4</td>\n",
       "      <td>103</td>\n",
       "      <td>11.45</td>\n",
       "      <td>13.7</td>\n",
       "      <td>3</td>\n",
       "      <td>3.70</td>\n",
       "      <td>1</td>\n",
       "      <td>False</td>\n",
       "    </tr>\n",
       "    <tr>\n",
       "      <th>2</th>\n",
       "      <td>NJ</td>\n",
       "      <td>137</td>\n",
       "      <td>415</td>\n",
       "      <td>No</td>\n",
       "      <td>No</td>\n",
       "      <td>0</td>\n",
       "      <td>243.4</td>\n",
       "      <td>114</td>\n",
       "      <td>41.38</td>\n",
       "      <td>121.2</td>\n",
       "      <td>110</td>\n",
       "      <td>10.30</td>\n",
       "      <td>162.6</td>\n",
       "      <td>104</td>\n",
       "      <td>7.32</td>\n",
       "      <td>12.2</td>\n",
       "      <td>5</td>\n",
       "      <td>3.29</td>\n",
       "      <td>0</td>\n",
       "      <td>False</td>\n",
       "    </tr>\n",
       "    <tr>\n",
       "      <th>3</th>\n",
       "      <td>OH</td>\n",
       "      <td>84</td>\n",
       "      <td>408</td>\n",
       "      <td>Yes</td>\n",
       "      <td>No</td>\n",
       "      <td>0</td>\n",
       "      <td>299.4</td>\n",
       "      <td>71</td>\n",
       "      <td>50.90</td>\n",
       "      <td>61.9</td>\n",
       "      <td>88</td>\n",
       "      <td>5.26</td>\n",
       "      <td>196.9</td>\n",
       "      <td>89</td>\n",
       "      <td>8.86</td>\n",
       "      <td>6.6</td>\n",
       "      <td>7</td>\n",
       "      <td>1.78</td>\n",
       "      <td>2</td>\n",
       "      <td>False</td>\n",
       "    </tr>\n",
       "    <tr>\n",
       "      <th>4</th>\n",
       "      <td>OK</td>\n",
       "      <td>75</td>\n",
       "      <td>415</td>\n",
       "      <td>Yes</td>\n",
       "      <td>No</td>\n",
       "      <td>0</td>\n",
       "      <td>166.7</td>\n",
       "      <td>113</td>\n",
       "      <td>28.34</td>\n",
       "      <td>148.3</td>\n",
       "      <td>122</td>\n",
       "      <td>12.61</td>\n",
       "      <td>186.9</td>\n",
       "      <td>121</td>\n",
       "      <td>8.41</td>\n",
       "      <td>10.1</td>\n",
       "      <td>3</td>\n",
       "      <td>2.73</td>\n",
       "      <td>3</td>\n",
       "      <td>False</td>\n",
       "    </tr>\n",
       "  </tbody>\n",
       "</table>\n",
       "</div>"
      ],
      "text/plain": [
       "  State  Account length  Area code International plan Voice mail plan  \\\n",
       "0    KS             128        415                 No             Yes   \n",
       "1    OH             107        415                 No             Yes   \n",
       "2    NJ             137        415                 No              No   \n",
       "3    OH              84        408                Yes              No   \n",
       "4    OK              75        415                Yes              No   \n",
       "\n",
       "   Number vmail messages  Total day minutes  Total day calls  \\\n",
       "0                     25              265.1              110   \n",
       "1                     26              161.6              123   \n",
       "2                      0              243.4              114   \n",
       "3                      0              299.4               71   \n",
       "4                      0              166.7              113   \n",
       "\n",
       "   Total day charge  Total eve minutes  Total eve calls  Total eve charge  \\\n",
       "0             45.07              197.4               99             16.78   \n",
       "1             27.47              195.5              103             16.62   \n",
       "2             41.38              121.2              110             10.30   \n",
       "3             50.90               61.9               88              5.26   \n",
       "4             28.34              148.3              122             12.61   \n",
       "\n",
       "   Total night minutes  Total night calls  Total night charge  \\\n",
       "0                244.7                 91               11.01   \n",
       "1                254.4                103               11.45   \n",
       "2                162.6                104                7.32   \n",
       "3                196.9                 89                8.86   \n",
       "4                186.9                121                8.41   \n",
       "\n",
       "   Total intl minutes  Total intl calls  Total intl charge  \\\n",
       "0                10.0                 3               2.70   \n",
       "1                13.7                 3               3.70   \n",
       "2                12.2                 5               3.29   \n",
       "3                 6.6                 7               1.78   \n",
       "4                10.1                 3               2.73   \n",
       "\n",
       "   Customer service calls  Churn  \n",
       "0                       1  False  \n",
       "1                       1  False  \n",
       "2                       0  False  \n",
       "3                       2  False  \n",
       "4                       3  False  "
      ]
     },
     "execution_count": 3,
     "metadata": {},
     "output_type": "execute_result"
    }
   ],
   "source": [
    "data.head()"
   ]
  },
  {
   "cell_type": "markdown",
   "id": "79709aef",
   "metadata": {},
   "source": [
    "#2) print all the column names"
   ]
  },
  {
   "cell_type": "code",
   "execution_count": 4,
   "id": "762c11cc",
   "metadata": {},
   "outputs": [
    {
     "data": {
      "text/plain": [
       "Index(['State', 'Account length', 'Area code', 'International plan',\n",
       "       'Voice mail plan', 'Number vmail messages', 'Total day minutes',\n",
       "       'Total day calls', 'Total day charge', 'Total eve minutes',\n",
       "       'Total eve calls', 'Total eve charge', 'Total night minutes',\n",
       "       'Total night calls', 'Total night charge', 'Total intl minutes',\n",
       "       'Total intl calls', 'Total intl charge', 'Customer service calls',\n",
       "       'Churn'],\n",
       "      dtype='object')"
      ]
     },
     "execution_count": 4,
     "metadata": {},
     "output_type": "execute_result"
    }
   ],
   "source": [
    " data.columns"
   ]
  },
  {
   "cell_type": "markdown",
   "id": "2f180c11",
   "metadata": {},
   "source": [
    "#3) describe the data "
   ]
  },
  {
   "cell_type": "code",
   "execution_count": 5,
   "id": "d51508b3",
   "metadata": {},
   "outputs": [
    {
     "data": {
      "text/html": [
       "<div>\n",
       "<style scoped>\n",
       "    .dataframe tbody tr th:only-of-type {\n",
       "        vertical-align: middle;\n",
       "    }\n",
       "\n",
       "    .dataframe tbody tr th {\n",
       "        vertical-align: top;\n",
       "    }\n",
       "\n",
       "    .dataframe thead th {\n",
       "        text-align: right;\n",
       "    }\n",
       "</style>\n",
       "<table border=\"1\" class=\"dataframe\">\n",
       "  <thead>\n",
       "    <tr style=\"text-align: right;\">\n",
       "      <th></th>\n",
       "      <th>Account length</th>\n",
       "      <th>Area code</th>\n",
       "      <th>Number vmail messages</th>\n",
       "      <th>Total day minutes</th>\n",
       "      <th>Total day calls</th>\n",
       "      <th>Total day charge</th>\n",
       "      <th>Total eve minutes</th>\n",
       "      <th>Total eve calls</th>\n",
       "      <th>Total eve charge</th>\n",
       "      <th>Total night minutes</th>\n",
       "      <th>Total night calls</th>\n",
       "      <th>Total night charge</th>\n",
       "      <th>Total intl minutes</th>\n",
       "      <th>Total intl calls</th>\n",
       "      <th>Total intl charge</th>\n",
       "      <th>Customer service calls</th>\n",
       "    </tr>\n",
       "  </thead>\n",
       "  <tbody>\n",
       "    <tr>\n",
       "      <th>count</th>\n",
       "      <td>2666.000000</td>\n",
       "      <td>2666.000000</td>\n",
       "      <td>2666.000000</td>\n",
       "      <td>2666.00000</td>\n",
       "      <td>2666.000000</td>\n",
       "      <td>2666.000000</td>\n",
       "      <td>2666.000000</td>\n",
       "      <td>2666.000000</td>\n",
       "      <td>2666.000000</td>\n",
       "      <td>2666.000000</td>\n",
       "      <td>2666.000000</td>\n",
       "      <td>2666.000000</td>\n",
       "      <td>2666.000000</td>\n",
       "      <td>2666.000000</td>\n",
       "      <td>2666.000000</td>\n",
       "      <td>2666.000000</td>\n",
       "    </tr>\n",
       "    <tr>\n",
       "      <th>mean</th>\n",
       "      <td>100.620405</td>\n",
       "      <td>437.438860</td>\n",
       "      <td>8.021755</td>\n",
       "      <td>179.48162</td>\n",
       "      <td>100.310203</td>\n",
       "      <td>30.512404</td>\n",
       "      <td>200.386159</td>\n",
       "      <td>100.023631</td>\n",
       "      <td>17.033072</td>\n",
       "      <td>201.168942</td>\n",
       "      <td>100.106152</td>\n",
       "      <td>9.052689</td>\n",
       "      <td>10.237022</td>\n",
       "      <td>4.467367</td>\n",
       "      <td>2.764490</td>\n",
       "      <td>1.562641</td>\n",
       "    </tr>\n",
       "    <tr>\n",
       "      <th>std</th>\n",
       "      <td>39.563974</td>\n",
       "      <td>42.521018</td>\n",
       "      <td>13.612277</td>\n",
       "      <td>54.21035</td>\n",
       "      <td>19.988162</td>\n",
       "      <td>9.215733</td>\n",
       "      <td>50.951515</td>\n",
       "      <td>20.161445</td>\n",
       "      <td>4.330864</td>\n",
       "      <td>50.780323</td>\n",
       "      <td>19.418459</td>\n",
       "      <td>2.285120</td>\n",
       "      <td>2.788349</td>\n",
       "      <td>2.456195</td>\n",
       "      <td>0.752812</td>\n",
       "      <td>1.311236</td>\n",
       "    </tr>\n",
       "    <tr>\n",
       "      <th>min</th>\n",
       "      <td>1.000000</td>\n",
       "      <td>408.000000</td>\n",
       "      <td>0.000000</td>\n",
       "      <td>0.00000</td>\n",
       "      <td>0.000000</td>\n",
       "      <td>0.000000</td>\n",
       "      <td>0.000000</td>\n",
       "      <td>0.000000</td>\n",
       "      <td>0.000000</td>\n",
       "      <td>43.700000</td>\n",
       "      <td>33.000000</td>\n",
       "      <td>1.970000</td>\n",
       "      <td>0.000000</td>\n",
       "      <td>0.000000</td>\n",
       "      <td>0.000000</td>\n",
       "      <td>0.000000</td>\n",
       "    </tr>\n",
       "    <tr>\n",
       "      <th>25%</th>\n",
       "      <td>73.000000</td>\n",
       "      <td>408.000000</td>\n",
       "      <td>0.000000</td>\n",
       "      <td>143.40000</td>\n",
       "      <td>87.000000</td>\n",
       "      <td>24.380000</td>\n",
       "      <td>165.300000</td>\n",
       "      <td>87.000000</td>\n",
       "      <td>14.050000</td>\n",
       "      <td>166.925000</td>\n",
       "      <td>87.000000</td>\n",
       "      <td>7.512500</td>\n",
       "      <td>8.500000</td>\n",
       "      <td>3.000000</td>\n",
       "      <td>2.300000</td>\n",
       "      <td>1.000000</td>\n",
       "    </tr>\n",
       "    <tr>\n",
       "      <th>50%</th>\n",
       "      <td>100.000000</td>\n",
       "      <td>415.000000</td>\n",
       "      <td>0.000000</td>\n",
       "      <td>179.95000</td>\n",
       "      <td>101.000000</td>\n",
       "      <td>30.590000</td>\n",
       "      <td>200.900000</td>\n",
       "      <td>100.000000</td>\n",
       "      <td>17.080000</td>\n",
       "      <td>201.150000</td>\n",
       "      <td>100.000000</td>\n",
       "      <td>9.050000</td>\n",
       "      <td>10.200000</td>\n",
       "      <td>4.000000</td>\n",
       "      <td>2.750000</td>\n",
       "      <td>1.000000</td>\n",
       "    </tr>\n",
       "    <tr>\n",
       "      <th>75%</th>\n",
       "      <td>127.000000</td>\n",
       "      <td>510.000000</td>\n",
       "      <td>19.000000</td>\n",
       "      <td>215.90000</td>\n",
       "      <td>114.000000</td>\n",
       "      <td>36.700000</td>\n",
       "      <td>235.100000</td>\n",
       "      <td>114.000000</td>\n",
       "      <td>19.980000</td>\n",
       "      <td>236.475000</td>\n",
       "      <td>113.000000</td>\n",
       "      <td>10.640000</td>\n",
       "      <td>12.100000</td>\n",
       "      <td>6.000000</td>\n",
       "      <td>3.270000</td>\n",
       "      <td>2.000000</td>\n",
       "    </tr>\n",
       "    <tr>\n",
       "      <th>max</th>\n",
       "      <td>243.000000</td>\n",
       "      <td>510.000000</td>\n",
       "      <td>50.000000</td>\n",
       "      <td>350.80000</td>\n",
       "      <td>160.000000</td>\n",
       "      <td>59.640000</td>\n",
       "      <td>363.700000</td>\n",
       "      <td>170.000000</td>\n",
       "      <td>30.910000</td>\n",
       "      <td>395.000000</td>\n",
       "      <td>166.000000</td>\n",
       "      <td>17.770000</td>\n",
       "      <td>20.000000</td>\n",
       "      <td>20.000000</td>\n",
       "      <td>5.400000</td>\n",
       "      <td>9.000000</td>\n",
       "    </tr>\n",
       "  </tbody>\n",
       "</table>\n",
       "</div>"
      ],
      "text/plain": [
       "       Account length    Area code  Number vmail messages  Total day minutes  \\\n",
       "count     2666.000000  2666.000000            2666.000000         2666.00000   \n",
       "mean       100.620405   437.438860               8.021755          179.48162   \n",
       "std         39.563974    42.521018              13.612277           54.21035   \n",
       "min          1.000000   408.000000               0.000000            0.00000   \n",
       "25%         73.000000   408.000000               0.000000          143.40000   \n",
       "50%        100.000000   415.000000               0.000000          179.95000   \n",
       "75%        127.000000   510.000000              19.000000          215.90000   \n",
       "max        243.000000   510.000000              50.000000          350.80000   \n",
       "\n",
       "       Total day calls  Total day charge  Total eve minutes  Total eve calls  \\\n",
       "count      2666.000000       2666.000000        2666.000000      2666.000000   \n",
       "mean        100.310203         30.512404         200.386159       100.023631   \n",
       "std          19.988162          9.215733          50.951515        20.161445   \n",
       "min           0.000000          0.000000           0.000000         0.000000   \n",
       "25%          87.000000         24.380000         165.300000        87.000000   \n",
       "50%         101.000000         30.590000         200.900000       100.000000   \n",
       "75%         114.000000         36.700000         235.100000       114.000000   \n",
       "max         160.000000         59.640000         363.700000       170.000000   \n",
       "\n",
       "       Total eve charge  Total night minutes  Total night calls  \\\n",
       "count       2666.000000          2666.000000        2666.000000   \n",
       "mean          17.033072           201.168942         100.106152   \n",
       "std            4.330864            50.780323          19.418459   \n",
       "min            0.000000            43.700000          33.000000   \n",
       "25%           14.050000           166.925000          87.000000   \n",
       "50%           17.080000           201.150000         100.000000   \n",
       "75%           19.980000           236.475000         113.000000   \n",
       "max           30.910000           395.000000         166.000000   \n",
       "\n",
       "       Total night charge  Total intl minutes  Total intl calls  \\\n",
       "count         2666.000000         2666.000000       2666.000000   \n",
       "mean             9.052689           10.237022          4.467367   \n",
       "std              2.285120            2.788349          2.456195   \n",
       "min              1.970000            0.000000          0.000000   \n",
       "25%              7.512500            8.500000          3.000000   \n",
       "50%              9.050000           10.200000          4.000000   \n",
       "75%             10.640000           12.100000          6.000000   \n",
       "max             17.770000           20.000000         20.000000   \n",
       "\n",
       "       Total intl charge  Customer service calls  \n",
       "count        2666.000000             2666.000000  \n",
       "mean            2.764490                1.562641  \n",
       "std             0.752812                1.311236  \n",
       "min             0.000000                0.000000  \n",
       "25%             2.300000                1.000000  \n",
       "50%             2.750000                1.000000  \n",
       "75%             3.270000                2.000000  \n",
       "max             5.400000                9.000000  "
      ]
     },
     "execution_count": 5,
     "metadata": {},
     "output_type": "execute_result"
    }
   ],
   "source": [
    "data.describe()"
   ]
  },
  {
   "cell_type": "markdown",
   "id": "8b8b650f",
   "metadata": {},
   "source": [
    "#4) find all the Null values"
   ]
  },
  {
   "cell_type": "code",
   "execution_count": 6,
   "id": "52875f8a",
   "metadata": {},
   "outputs": [
    {
     "data": {
      "text/plain": [
       "State                     0\n",
       "Account length            0\n",
       "Area code                 0\n",
       "International plan        0\n",
       "Voice mail plan           0\n",
       "Number vmail messages     0\n",
       "Total day minutes         0\n",
       "Total day calls           0\n",
       "Total day charge          0\n",
       "Total eve minutes         0\n",
       "Total eve calls           0\n",
       "Total eve charge          0\n",
       "Total night minutes       0\n",
       "Total night calls         0\n",
       "Total night charge        0\n",
       "Total intl minutes        0\n",
       "Total intl calls          0\n",
       "Total intl charge         0\n",
       "Customer service calls    0\n",
       "Churn                     0\n",
       "dtype: int64"
      ]
     },
     "execution_count": 6,
     "metadata": {},
     "output_type": "execute_result"
    }
   ],
   "source": [
    " data.isnull().sum()"
   ]
  },
  {
   "cell_type": "markdown",
   "id": "efa773f3",
   "metadata": {},
   "source": [
    "#5) plot the customers who have international plans"
   ]
  },
  {
   "cell_type": "code",
   "execution_count": 7,
   "id": "11458982",
   "metadata": {},
   "outputs": [
    {
     "data": {
      "text/plain": [
       "<AxesSubplot:>"
      ]
     },
     "execution_count": 7,
     "metadata": {},
     "output_type": "execute_result"
    },
    {
     "data": {
      "image/png": "[encoded data removed]",
      "text/plain": [
       "<Figure size 432x288 with 1 Axes>"
      ]
     },
     "metadata": {
      "needs_background": "light"
     },
     "output_type": "display_data"
    }
   ],
   "source": [
    "\n",
    "data['International plan'].value_counts().plot(kind='bar',color='red')"
   ]
  },
  {
   "cell_type": "markdown",
   "id": "e8a3877f",
   "metadata": {},
   "source": [
    "#6) plot the customers who have Voice mail plan "
   ]
  },
  {
   "cell_type": "code",
   "execution_count": 8,
   "id": "3b6d1eb9",
   "metadata": {},
   "outputs": [
    {
     "data": {
      "text/plain": [
       "<AxesSubplot:>"
      ]
     },
     "execution_count": 8,
     "metadata": {},
     "output_type": "execute_result"
    },
    {
     "data": {
      "image/png": "[encoded data removed]",
      "text/plain": [
       "<Figure size 432x288 with 1 Axes>"
      ]
     },
     "metadata": {
      "needs_background": "light"
     },
     "output_type": "display_data"
    }
   ],
   "source": [
    "\n",
    "data['Voice mail plan'].value_counts().plot(kind='bar',color='orange')"
   ]
  },
  {
   "cell_type": "markdown",
   "id": "630d1726",
   "metadata": {},
   "source": [
    "#7) Plot the total day calls"
   ]
  },
  {
   "cell_type": "code",
   "execution_count": 9,
   "id": "64d47a2d",
   "metadata": {
    "scrolled": true
   },
   "outputs": [
    {
     "data": {
      "text/plain": [
       "<AxesSubplot:>"
      ]
     },
     "execution_count": 9,
     "metadata": {},
     "output_type": "execute_result"
    },
    {
     "data": {
      "image/png": "[encoded data removed]",
      "text/plain": [
       "<Figure size 432x288 with 1 Axes>"
      ]
     },
     "metadata": {
      "needs_background": "light"
     },
     "output_type": "display_data"
    }
   ],
   "source": [
    "\n",
    "data['Total day calls'].plot(kind='box')"
   ]
  },
  {
   "cell_type": "markdown",
   "id": "7c11a516",
   "metadata": {},
   "source": [
    "#8) Plot the total day charge"
   ]
  },
  {
   "cell_type": "code",
   "execution_count": 10,
   "id": "2b1e8f91",
   "metadata": {},
   "outputs": [
    {
     "data": {
      "text/plain": [
       "<AxesSubplot:>"
      ]
     },
     "execution_count": 10,
     "metadata": {},
     "output_type": "execute_result"
    },
    {
     "data": {
      "image/png": "[encoded data removed]",
      "text/plain": [
       "<Figure size 432x288 with 1 Axes>"
      ]
     },
     "metadata": {
      "needs_background": "light"
     },
     "output_type": "display_data"
    }
   ],
   "source": [
    "\n",
    "data['Total day charge'].plot(kind='box')"
   ]
  },
  {
   "cell_type": "markdown",
   "id": "8e78ac9d",
   "metadata": {},
   "source": [
    "#9) Display pie chart for value count in Churn column"
   ]
  },
  {
   "cell_type": "code",
   "execution_count": 11,
   "id": "66e2137d",
   "metadata": {},
   "outputs": [
    {
     "data": {
      "text/plain": [
       "<AxesSubplot:ylabel='Churn'>"
      ]
     },
     "execution_count": 11,
     "metadata": {},
     "output_type": "execute_result"
    },
    {
     "data": {
      "image/png": "[encoded data removed]",
      "text/plain": [
       "<Figure size 432x288 with 1 Axes>"
      ]
     },
     "metadata": {},
     "output_type": "display_data"
    }
   ],
   "source": [
    "\n",
    "data['Churn'].value_counts().plot(kind='pie')"
   ]
  },
  {
   "cell_type": "markdown",
   "id": "9de38b48",
   "metadata": {},
   "source": [
    "#10) Display a scatter plot between total day calls and total day charges "
   ]
  },
  {
   "cell_type": "code",
   "execution_count": 12,
   "id": "3e3f3981",
   "metadata": {},
   "outputs": [
    {
     "data": {
      "image/png": "[encoded data removed]",
      "text/plain": [
       "<Figure size 432x288 with 1 Axes>"
      ]
     },
     "metadata": {
      "needs_background": "light"
     },
     "output_type": "display_data"
    }
   ],
   "source": [
    "\n",
    "x=data['Total day calls']\n",
    "y=data['Total day charge']\n",
    "plt.xlabel('Total day calls')\n",
    "plt.ylabel('Total day charge')\n",
    "plt.title('Total day calls vs Total day charge')\n",
    "plt.scatter(x,y,color='red',marker='*')\n",
    "plt.show()"
   ]
  },
  {
   "cell_type": "markdown",
   "id": "24e64acb",
   "metadata": {},
   "source": [
    "#11) Display a scatter plot between total day calls and total night calls "
   ]
  },
  {
   "cell_type": "code",
   "execution_count": 13,
   "id": "9b55817c",
   "metadata": {},
   "outputs": [
    {
     "data": {
      "image/png": "[encoded data removed]",
      "text/plain": [
       "<Figure size 432x288 with 1 Axes>"
      ]
     },
     "metadata": {
      "needs_background": "light"
     },
     "output_type": "display_data"
    }
   ],
   "source": [
    "\n",
    "x=data['Total day calls']\n",
    "y=data['Total night calls']\n",
    "plt.xlabel('Total day calls')\n",
    "plt.ylabel('Total night calls')\n",
    "plt.title('Total day calls vs Total night calls')\n",
    "plt.scatter(x,y,color='orange',marker='+')\n",
    "plt.show()"
   ]
  },
  {
   "cell_type": "markdown",
   "id": "cb62ed6e",
   "metadata": {},
   "source": [
    "#12) Display a boxplot of Total day minutes with respect to Churn "
   ]
  },
  {
   "cell_type": "code",
   "execution_count": 14,
   "id": "aa9c4890",
   "metadata": {},
   "outputs": [
    {
     "data": {
      "image/png": "[encoded data removed]",
      "text/plain": [
       "<Figure size 432x288 with 1 Axes>"
      ]
     },
     "metadata": {
      "needs_background": "light"
     },
     "output_type": "display_data"
    }
   ],
   "source": [
    "\n",
    "plt.boxplot([data[data['Churn']==0]['Total day minutes'], data[data['Churn']==1]['Total day minutes']])\n",
    "plt.xticks([1,2],['No Churn','Churn'])\n",
    "plt.ylabel('Total day minutes')\n",
    "plt.title('Boxplot of Total day minutes with respect to Churn')\n",
    "plt.show()"
   ]
  },
  {
   "cell_type": "markdown",
   "id": "5f4d7ae1",
   "metadata": {},
   "source": [
    "#13) Display a boxplot of Total day charge with respect to Churn "
   ]
  },
  {
   "cell_type": "code",
   "execution_count": 15,
   "id": "60a49487",
   "metadata": {},
   "outputs": [
    {
     "data": {
      "image/png": "[encoded data removed]",
      "text/plain": [
       "<Figure size 432x288 with 1 Axes>"
      ]
     },
     "metadata": {
      "needs_background": "light"
     },
     "output_type": "display_data"
    }
   ],
   "source": [
    "\n",
    "plt.boxplot([data[data['Churn']==0]['Total day charge'], data[data['Churn']==1]['Total day charge']])\n",
    "plt.xticks([1,2],['No Churn','Churn'])\n",
    "plt.ylabel('Total day charge')\n",
    "plt.title('Boxplot of Total day charge with respect to Churn')\n",
    "plt.show()"
   ]
  },
  {
   "cell_type": "markdown",
   "id": "03f73ddf",
   "metadata": {},
   "source": [
    "WORKING WITH MODELS"
   ]
  },
  {
   "cell_type": "markdown",
   "id": "4a3a9b6d",
   "metadata": {},
   "source": [
    "#1) Perform encoding on churn "
   ]
  },
  {
   "cell_type": "code",
   "execution_count": 16,
   "id": "e6a3e300",
   "metadata": {},
   "outputs": [],
   "source": [
    "from sklearn.preprocessing import LabelEncoder"
   ]
  },
  {
   "cell_type": "code",
   "execution_count": 17,
   "id": "3ec266ca",
   "metadata": {},
   "outputs": [],
   "source": [
    "le=LabelEncoder()"
   ]
  },
  {
   "cell_type": "code",
   "execution_count": 18,
   "id": "548840fd",
   "metadata": {},
   "outputs": [],
   "source": [
    "\n",
    "data['Churn'] = le.fit_transform(data['Churn'])"
   ]
  },
  {
   "cell_type": "code",
   "execution_count": 19,
   "id": "93d1b68b",
   "metadata": {},
   "outputs": [
    {
     "data": {
      "text/plain": [
       "0    2278\n",
       "1     388\n",
       "Name: Churn, dtype: int64"
      ]
     },
     "execution_count": 19,
     "metadata": {},
     "output_type": "execute_result"
    }
   ],
   "source": [
    "data['Churn'].value_counts()"
   ]
  },
  {
   "cell_type": "markdown",
   "id": "37b306c8",
   "metadata": {},
   "source": [
    "#2) Perform encoding on International Plan "
   ]
  },
  {
   "cell_type": "code",
   "execution_count": 20,
   "id": "ce7533b0",
   "metadata": {},
   "outputs": [],
   "source": [
    "\n",
    "data['International plan'] = le.fit_transform(data['International plan'])"
   ]
  },
  {
   "cell_type": "code",
   "execution_count": 21,
   "id": "908c05f4",
   "metadata": {},
   "outputs": [
    {
     "data": {
      "text/plain": [
       "0    2396\n",
       "1     270\n",
       "Name: International plan, dtype: int64"
      ]
     },
     "execution_count": 21,
     "metadata": {},
     "output_type": "execute_result"
    }
   ],
   "source": [
    "data['International plan'].value_counts()"
   ]
  },
  {
   "cell_type": "markdown",
   "id": "234c9360",
   "metadata": {},
   "source": [
    "#3) Perform encoding on voice mail plan using sklearn "
   ]
  },
  {
   "cell_type": "code",
   "execution_count": 22,
   "id": "518a1978",
   "metadata": {},
   "outputs": [],
   "source": [
    "\n",
    "data['Voice mail plan'] = le.fit_transform(data['Voice mail plan'])"
   ]
  },
  {
   "cell_type": "code",
   "execution_count": 23,
   "id": "48022766",
   "metadata": {},
   "outputs": [
    {
     "data": {
      "text/html": [
       "<div>\n",
       "<style scoped>\n",
       "    .dataframe tbody tr th:only-of-type {\n",
       "        vertical-align: middle;\n",
       "    }\n",
       "\n",
       "    .dataframe tbody tr th {\n",
       "        vertical-align: top;\n",
       "    }\n",
       "\n",
       "    .dataframe thead th {\n",
       "        text-align: right;\n",
       "    }\n",
       "</style>\n",
       "<table border=\"1\" class=\"dataframe\">\n",
       "  <thead>\n",
       "    <tr style=\"text-align: right;\">\n",
       "      <th></th>\n",
       "      <th>State</th>\n",
       "      <th>Account length</th>\n",
       "      <th>Area code</th>\n",
       "      <th>International plan</th>\n",
       "      <th>Voice mail plan</th>\n",
       "      <th>Number vmail messages</th>\n",
       "      <th>Total day minutes</th>\n",
       "      <th>Total day calls</th>\n",
       "      <th>Total day charge</th>\n",
       "      <th>Total eve minutes</th>\n",
       "      <th>Total eve calls</th>\n",
       "      <th>Total eve charge</th>\n",
       "      <th>Total night minutes</th>\n",
       "      <th>Total night calls</th>\n",
       "      <th>Total night charge</th>\n",
       "      <th>Total intl minutes</th>\n",
       "      <th>Total intl calls</th>\n",
       "      <th>Total intl charge</th>\n",
       "      <th>Customer service calls</th>\n",
       "      <th>Churn</th>\n",
       "    </tr>\n",
       "  </thead>\n",
       "  <tbody>\n",
       "    <tr>\n",
       "      <th>0</th>\n",
       "      <td>KS</td>\n",
       "      <td>128</td>\n",
       "      <td>415</td>\n",
       "      <td>0</td>\n",
       "      <td>1</td>\n",
       "      <td>25</td>\n",
       "      <td>265.1</td>\n",
       "      <td>110</td>\n",
       "      <td>45.07</td>\n",
       "      <td>197.4</td>\n",
       "      <td>99</td>\n",
       "      <td>16.78</td>\n",
       "      <td>244.7</td>\n",
       "      <td>91</td>\n",
       "      <td>11.01</td>\n",
       "      <td>10.0</td>\n",
       "      <td>3</td>\n",
       "      <td>2.70</td>\n",
       "      <td>1</td>\n",
       "      <td>0</td>\n",
       "    </tr>\n",
       "    <tr>\n",
       "      <th>1</th>\n",
       "      <td>OH</td>\n",
       "      <td>107</td>\n",
       "      <td>415</td>\n",
       "      <td>0</td>\n",
       "      <td>1</td>\n",
       "      <td>26</td>\n",
       "      <td>161.6</td>\n",
       "      <td>123</td>\n",
       "      <td>27.47</td>\n",
       "      <td>195.5</td>\n",
       "      <td>103</td>\n",
       "      <td>16.62</td>\n",
       "      <td>254.4</td>\n",
       "      <td>103</td>\n",
       "      <td>11.45</td>\n",
       "      <td>13.7</td>\n",
       "      <td>3</td>\n",
       "      <td>3.70</td>\n",
       "      <td>1</td>\n",
       "      <td>0</td>\n",
       "    </tr>\n",
       "    <tr>\n",
       "      <th>2</th>\n",
       "      <td>NJ</td>\n",
       "      <td>137</td>\n",
       "      <td>415</td>\n",
       "      <td>0</td>\n",
       "      <td>0</td>\n",
       "      <td>0</td>\n",
       "      <td>243.4</td>\n",
       "      <td>114</td>\n",
       "      <td>41.38</td>\n",
       "      <td>121.2</td>\n",
       "      <td>110</td>\n",
       "      <td>10.30</td>\n",
       "      <td>162.6</td>\n",
       "      <td>104</td>\n",
       "      <td>7.32</td>\n",
       "      <td>12.2</td>\n",
       "      <td>5</td>\n",
       "      <td>3.29</td>\n",
       "      <td>0</td>\n",
       "      <td>0</td>\n",
       "    </tr>\n",
       "    <tr>\n",
       "      <th>3</th>\n",
       "      <td>OH</td>\n",
       "      <td>84</td>\n",
       "      <td>408</td>\n",
       "      <td>1</td>\n",
       "      <td>0</td>\n",
       "      <td>0</td>\n",
       "      <td>299.4</td>\n",
       "      <td>71</td>\n",
       "      <td>50.90</td>\n",
       "      <td>61.9</td>\n",
       "      <td>88</td>\n",
       "      <td>5.26</td>\n",
       "      <td>196.9</td>\n",
       "      <td>89</td>\n",
       "      <td>8.86</td>\n",
       "      <td>6.6</td>\n",
       "      <td>7</td>\n",
       "      <td>1.78</td>\n",
       "      <td>2</td>\n",
       "      <td>0</td>\n",
       "    </tr>\n",
       "    <tr>\n",
       "      <th>4</th>\n",
       "      <td>OK</td>\n",
       "      <td>75</td>\n",
       "      <td>415</td>\n",
       "      <td>1</td>\n",
       "      <td>0</td>\n",
       "      <td>0</td>\n",
       "      <td>166.7</td>\n",
       "      <td>113</td>\n",
       "      <td>28.34</td>\n",
       "      <td>148.3</td>\n",
       "      <td>122</td>\n",
       "      <td>12.61</td>\n",
       "      <td>186.9</td>\n",
       "      <td>121</td>\n",
       "      <td>8.41</td>\n",
       "      <td>10.1</td>\n",
       "      <td>3</td>\n",
       "      <td>2.73</td>\n",
       "      <td>3</td>\n",
       "      <td>0</td>\n",
       "    </tr>\n",
       "  </tbody>\n",
       "</table>\n",
       "</div>"
      ],
      "text/plain": [
       "  State  Account length  Area code  International plan  Voice mail plan  \\\n",
       "0    KS             128        415                   0                1   \n",
       "1    OH             107        415                   0                1   \n",
       "2    NJ             137        415                   0                0   \n",
       "3    OH              84        408                   1                0   \n",
       "4    OK              75        415                   1                0   \n",
       "\n",
       "   Number vmail messages  Total day minutes  Total day calls  \\\n",
       "0                     25              265.1              110   \n",
       "1                     26              161.6              123   \n",
       "2                      0              243.4              114   \n",
       "3                      0              299.4               71   \n",
       "4                      0              166.7              113   \n",
       "\n",
       "   Total day charge  Total eve minutes  Total eve calls  Total eve charge  \\\n",
       "0             45.07              197.4               99             16.78   \n",
       "1             27.47              195.5              103             16.62   \n",
       "2             41.38              121.2              110             10.30   \n",
       "3             50.90               61.9               88              5.26   \n",
       "4             28.34              148.3              122             12.61   \n",
       "\n",
       "   Total night minutes  Total night calls  Total night charge  \\\n",
       "0                244.7                 91               11.01   \n",
       "1                254.4                103               11.45   \n",
       "2                162.6                104                7.32   \n",
       "3                196.9                 89                8.86   \n",
       "4                186.9                121                8.41   \n",
       "\n",
       "   Total intl minutes  Total intl calls  Total intl charge  \\\n",
       "0                10.0                 3               2.70   \n",
       "1                13.7                 3               3.70   \n",
       "2                12.2                 5               3.29   \n",
       "3                 6.6                 7               1.78   \n",
       "4                10.1                 3               2.73   \n",
       "\n",
       "   Customer service calls  Churn  \n",
       "0                       1      0  \n",
       "1                       1      0  \n",
       "2                       0      0  \n",
       "3                       2      0  \n",
       "4                       3      0  "
      ]
     },
     "execution_count": 23,
     "metadata": {},
     "output_type": "execute_result"
    }
   ],
   "source": [
    "data.head()"
   ]
  },
  {
   "cell_type": "code",
   "execution_count": 24,
   "id": "01a7d1a3",
   "metadata": {},
   "outputs": [],
   "source": [
    "data['State'] = le.fit_transform(data['State'])"
   ]
  },
  {
   "cell_type": "code",
   "execution_count": 25,
   "id": "3c9c7a92",
   "metadata": {},
   "outputs": [],
   "source": [
    "data['Total day minutes'] = le.fit_transform(data['Total day minutes'])"
   ]
  },
  {
   "cell_type": "code",
   "execution_count": 26,
   "id": "92075f5c",
   "metadata": {},
   "outputs": [],
   "source": [
    "data['Total eve charge'] = le.fit_transform(data['Total eve charge'])"
   ]
  },
  {
   "cell_type": "markdown",
   "id": "cba72469",
   "metadata": {},
   "source": [
    "#4) Check the correlation among all the columns "
   ]
  },
  {
   "cell_type": "code",
   "execution_count": 27,
   "id": "c35fb0e2",
   "metadata": {},
   "outputs": [
    {
     "data": {
      "text/html": [
       "<div>\n",
       "<style scoped>\n",
       "    .dataframe tbody tr th:only-of-type {\n",
       "        vertical-align: middle;\n",
       "    }\n",
       "\n",
       "    .dataframe tbody tr th {\n",
       "        vertical-align: top;\n",
       "    }\n",
       "\n",
       "    .dataframe thead th {\n",
       "        text-align: right;\n",
       "    }\n",
       "</style>\n",
       "<table border=\"1\" class=\"dataframe\">\n",
       "  <thead>\n",
       "    <tr style=\"text-align: right;\">\n",
       "      <th></th>\n",
       "      <th>State</th>\n",
       "      <th>Account length</th>\n",
       "      <th>Area code</th>\n",
       "      <th>International plan</th>\n",
       "      <th>Voice mail plan</th>\n",
       "      <th>Number vmail messages</th>\n",
       "      <th>Total day minutes</th>\n",
       "      <th>Total day calls</th>\n",
       "      <th>Total day charge</th>\n",
       "      <th>Total eve minutes</th>\n",
       "      <th>Total eve calls</th>\n",
       "      <th>Total eve charge</th>\n",
       "      <th>Total night minutes</th>\n",
       "      <th>Total night calls</th>\n",
       "      <th>Total night charge</th>\n",
       "      <th>Total intl minutes</th>\n",
       "      <th>Total intl calls</th>\n",
       "      <th>Total intl charge</th>\n",
       "      <th>Customer service calls</th>\n",
       "      <th>Churn</th>\n",
       "    </tr>\n",
       "  </thead>\n",
       "  <tbody>\n",
       "    <tr>\n",
       "      <th>State</th>\n",
       "      <td>1.000000</td>\n",
       "      <td>-0.007254</td>\n",
       "      <td>0.014550</td>\n",
       "      <td>-0.003144</td>\n",
       "      <td>-0.018661</td>\n",
       "      <td>-0.011960</td>\n",
       "      <td>-0.005074</td>\n",
       "      <td>0.007068</td>\n",
       "      <td>-0.004951</td>\n",
       "      <td>0.009383</td>\n",
       "      <td>-0.011494</td>\n",
       "      <td>0.014553</td>\n",
       "      <td>0.025277</td>\n",
       "      <td>0.005906</td>\n",
       "      <td>0.025269</td>\n",
       "      <td>-0.011202</td>\n",
       "      <td>0.011980</td>\n",
       "      <td>-0.011191</td>\n",
       "      <td>-0.031970</td>\n",
       "      <td>0.000430</td>\n",
       "    </tr>\n",
       "    <tr>\n",
       "      <th>Account length</th>\n",
       "      <td>-0.007254</td>\n",
       "      <td>1.000000</td>\n",
       "      <td>-0.008620</td>\n",
       "      <td>0.024500</td>\n",
       "      <td>0.002448</td>\n",
       "      <td>-0.002996</td>\n",
       "      <td>0.006972</td>\n",
       "      <td>0.038862</td>\n",
       "      <td>0.002843</td>\n",
       "      <td>-0.015923</td>\n",
       "      <td>0.018552</td>\n",
       "      <td>-0.016938</td>\n",
       "      <td>-0.008994</td>\n",
       "      <td>-0.024007</td>\n",
       "      <td>-0.008999</td>\n",
       "      <td>0.011369</td>\n",
       "      <td>0.017627</td>\n",
       "      <td>0.011383</td>\n",
       "      <td>0.002455</td>\n",
       "      <td>0.017728</td>\n",
       "    </tr>\n",
       "    <tr>\n",
       "      <th>Area code</th>\n",
       "      <td>0.014550</td>\n",
       "      <td>-0.008620</td>\n",
       "      <td>1.000000</td>\n",
       "      <td>0.047099</td>\n",
       "      <td>0.007180</td>\n",
       "      <td>-0.000584</td>\n",
       "      <td>-0.022818</td>\n",
       "      <td>-0.009629</td>\n",
       "      <td>-0.023130</td>\n",
       "      <td>0.000679</td>\n",
       "      <td>-0.018602</td>\n",
       "      <td>-0.000930</td>\n",
       "      <td>-0.003353</td>\n",
       "      <td>0.011455</td>\n",
       "      <td>-0.003382</td>\n",
       "      <td>-0.013418</td>\n",
       "      <td>-0.027423</td>\n",
       "      <td>-0.013534</td>\n",
       "      <td>0.034442</td>\n",
       "      <td>0.001019</td>\n",
       "    </tr>\n",
       "    <tr>\n",
       "      <th>International plan</th>\n",
       "      <td>-0.003144</td>\n",
       "      <td>0.024500</td>\n",
       "      <td>0.047099</td>\n",
       "      <td>1.000000</td>\n",
       "      <td>0.002131</td>\n",
       "      <td>0.005858</td>\n",
       "      <td>0.048971</td>\n",
       "      <td>-0.004277</td>\n",
       "      <td>0.049555</td>\n",
       "      <td>0.026616</td>\n",
       "      <td>0.010277</td>\n",
       "      <td>0.020433</td>\n",
       "      <td>-0.010310</td>\n",
       "      <td>0.018081</td>\n",
       "      <td>-0.010316</td>\n",
       "      <td>0.053162</td>\n",
       "      <td>0.011549</td>\n",
       "      <td>0.053037</td>\n",
       "      <td>-0.035955</td>\n",
       "      <td>0.277489</td>\n",
       "    </tr>\n",
       "    <tr>\n",
       "      <th>Voice mail plan</th>\n",
       "      <td>-0.018661</td>\n",
       "      <td>0.002448</td>\n",
       "      <td>0.007180</td>\n",
       "      <td>0.002131</td>\n",
       "      <td>1.000000</td>\n",
       "      <td>0.957159</td>\n",
       "      <td>0.017356</td>\n",
       "      <td>-0.007541</td>\n",
       "      <td>0.013439</td>\n",
       "      <td>0.019132</td>\n",
       "      <td>0.003404</td>\n",
       "      <td>0.019658</td>\n",
       "      <td>0.001065</td>\n",
       "      <td>0.013985</td>\n",
       "      <td>0.001066</td>\n",
       "      <td>-0.013963</td>\n",
       "      <td>0.015196</td>\n",
       "      <td>-0.013931</td>\n",
       "      <td>-0.022054</td>\n",
       "      <td>-0.099291</td>\n",
       "    </tr>\n",
       "    <tr>\n",
       "      <th>Number vmail messages</th>\n",
       "      <td>-0.011960</td>\n",
       "      <td>-0.002996</td>\n",
       "      <td>-0.000584</td>\n",
       "      <td>0.005858</td>\n",
       "      <td>0.957159</td>\n",
       "      <td>1.000000</td>\n",
       "      <td>0.023825</td>\n",
       "      <td>-0.009622</td>\n",
       "      <td>0.019027</td>\n",
       "      <td>0.011401</td>\n",
       "      <td>0.005131</td>\n",
       "      <td>0.012002</td>\n",
       "      <td>-0.000224</td>\n",
       "      <td>0.008124</td>\n",
       "      <td>-0.000229</td>\n",
       "      <td>-0.004156</td>\n",
       "      <td>0.027013</td>\n",
       "      <td>-0.004136</td>\n",
       "      <td>-0.018787</td>\n",
       "      <td>-0.086474</td>\n",
       "    </tr>\n",
       "    <tr>\n",
       "      <th>Total day minutes</th>\n",
       "      <td>-0.005074</td>\n",
       "      <td>0.006972</td>\n",
       "      <td>-0.022818</td>\n",
       "      <td>0.048971</td>\n",
       "      <td>0.017356</td>\n",
       "      <td>0.023825</td>\n",
       "      <td>1.000000</td>\n",
       "      <td>0.017760</td>\n",
       "      <td>0.987706</td>\n",
       "      <td>0.003428</td>\n",
       "      <td>0.008978</td>\n",
       "      <td>0.006165</td>\n",
       "      <td>0.007734</td>\n",
       "      <td>0.013720</td>\n",
       "      <td>0.007707</td>\n",
       "      <td>-0.012979</td>\n",
       "      <td>0.000852</td>\n",
       "      <td>-0.012879</td>\n",
       "      <td>-0.024164</td>\n",
       "      <td>0.175103</td>\n",
       "    </tr>\n",
       "    <tr>\n",
       "      <th>Total day calls</th>\n",
       "      <td>0.007068</td>\n",
       "      <td>0.038862</td>\n",
       "      <td>-0.009629</td>\n",
       "      <td>-0.004277</td>\n",
       "      <td>-0.007541</td>\n",
       "      <td>-0.009622</td>\n",
       "      <td>0.017760</td>\n",
       "      <td>1.000000</td>\n",
       "      <td>0.016787</td>\n",
       "      <td>-0.026003</td>\n",
       "      <td>0.006473</td>\n",
       "      <td>-0.023165</td>\n",
       "      <td>0.008986</td>\n",
       "      <td>-0.016776</td>\n",
       "      <td>0.008972</td>\n",
       "      <td>0.031036</td>\n",
       "      <td>0.006928</td>\n",
       "      <td>0.031133</td>\n",
       "      <td>-0.011945</td>\n",
       "      <td>0.018290</td>\n",
       "    </tr>\n",
       "    <tr>\n",
       "      <th>Total day charge</th>\n",
       "      <td>-0.004951</td>\n",
       "      <td>0.002843</td>\n",
       "      <td>-0.023130</td>\n",
       "      <td>0.049555</td>\n",
       "      <td>0.013439</td>\n",
       "      <td>0.019027</td>\n",
       "      <td>0.987706</td>\n",
       "      <td>0.016787</td>\n",
       "      <td>1.000000</td>\n",
       "      <td>0.004008</td>\n",
       "      <td>0.009056</td>\n",
       "      <td>0.007176</td>\n",
       "      <td>0.013495</td>\n",
       "      <td>0.015057</td>\n",
       "      <td>0.013468</td>\n",
       "      <td>-0.011046</td>\n",
       "      <td>0.005688</td>\n",
       "      <td>-0.010938</td>\n",
       "      <td>-0.024548</td>\n",
       "      <td>0.195689</td>\n",
       "    </tr>\n",
       "    <tr>\n",
       "      <th>Total eve minutes</th>\n",
       "      <td>0.009383</td>\n",
       "      <td>-0.015923</td>\n",
       "      <td>0.000679</td>\n",
       "      <td>0.026616</td>\n",
       "      <td>0.019132</td>\n",
       "      <td>0.011401</td>\n",
       "      <td>0.003428</td>\n",
       "      <td>-0.026003</td>\n",
       "      <td>0.004008</td>\n",
       "      <td>1.000000</td>\n",
       "      <td>-0.007654</td>\n",
       "      <td>0.990295</td>\n",
       "      <td>-0.013414</td>\n",
       "      <td>0.009017</td>\n",
       "      <td>-0.013450</td>\n",
       "      <td>-0.006915</td>\n",
       "      <td>0.002160</td>\n",
       "      <td>-0.006947</td>\n",
       "      <td>-0.013192</td>\n",
       "      <td>0.072906</td>\n",
       "    </tr>\n",
       "    <tr>\n",
       "      <th>Total eve calls</th>\n",
       "      <td>-0.011494</td>\n",
       "      <td>0.018552</td>\n",
       "      <td>-0.018602</td>\n",
       "      <td>0.010277</td>\n",
       "      <td>0.003404</td>\n",
       "      <td>0.005131</td>\n",
       "      <td>0.008978</td>\n",
       "      <td>0.006473</td>\n",
       "      <td>0.009056</td>\n",
       "      <td>-0.007654</td>\n",
       "      <td>1.000000</td>\n",
       "      <td>-0.011192</td>\n",
       "      <td>-0.000175</td>\n",
       "      <td>0.000797</td>\n",
       "      <td>-0.000135</td>\n",
       "      <td>0.011012</td>\n",
       "      <td>0.003710</td>\n",
       "      <td>0.011000</td>\n",
       "      <td>0.001058</td>\n",
       "      <td>-0.001539</td>\n",
       "    </tr>\n",
       "    <tr>\n",
       "      <th>Total eve charge</th>\n",
       "      <td>0.014553</td>\n",
       "      <td>-0.016938</td>\n",
       "      <td>-0.000930</td>\n",
       "      <td>0.020433</td>\n",
       "      <td>0.019658</td>\n",
       "      <td>0.012002</td>\n",
       "      <td>0.006165</td>\n",
       "      <td>-0.023165</td>\n",
       "      <td>0.007176</td>\n",
       "      <td>0.990295</td>\n",
       "      <td>-0.011192</td>\n",
       "      <td>1.000000</td>\n",
       "      <td>-0.013205</td>\n",
       "      <td>0.007152</td>\n",
       "      <td>-0.013243</td>\n",
       "      <td>-0.000797</td>\n",
       "      <td>0.008778</td>\n",
       "      <td>-0.000827</td>\n",
       "      <td>-0.015556</td>\n",
       "      <td>0.071765</td>\n",
       "    </tr>\n",
       "    <tr>\n",
       "      <th>Total night minutes</th>\n",
       "      <td>0.025277</td>\n",
       "      <td>-0.008994</td>\n",
       "      <td>-0.003353</td>\n",
       "      <td>-0.010310</td>\n",
       "      <td>0.001065</td>\n",
       "      <td>-0.000224</td>\n",
       "      <td>0.007734</td>\n",
       "      <td>0.008986</td>\n",
       "      <td>0.013495</td>\n",
       "      <td>-0.013414</td>\n",
       "      <td>-0.000175</td>\n",
       "      <td>-0.013205</td>\n",
       "      <td>1.000000</td>\n",
       "      <td>0.012736</td>\n",
       "      <td>0.999999</td>\n",
       "      <td>-0.008607</td>\n",
       "      <td>-0.001110</td>\n",
       "      <td>-0.008510</td>\n",
       "      <td>0.005236</td>\n",
       "      <td>0.033639</td>\n",
       "    </tr>\n",
       "    <tr>\n",
       "      <th>Total night calls</th>\n",
       "      <td>0.005906</td>\n",
       "      <td>-0.024007</td>\n",
       "      <td>0.011455</td>\n",
       "      <td>0.018081</td>\n",
       "      <td>0.013985</td>\n",
       "      <td>0.008124</td>\n",
       "      <td>0.013720</td>\n",
       "      <td>-0.016776</td>\n",
       "      <td>0.015057</td>\n",
       "      <td>0.009017</td>\n",
       "      <td>0.000797</td>\n",
       "      <td>0.007152</td>\n",
       "      <td>0.012736</td>\n",
       "      <td>1.000000</td>\n",
       "      <td>0.012720</td>\n",
       "      <td>-0.023447</td>\n",
       "      <td>0.019367</td>\n",
       "      <td>-0.023434</td>\n",
       "      <td>-0.005677</td>\n",
       "      <td>0.012262</td>\n",
       "    </tr>\n",
       "    <tr>\n",
       "      <th>Total night charge</th>\n",
       "      <td>0.025269</td>\n",
       "      <td>-0.008999</td>\n",
       "      <td>-0.003382</td>\n",
       "      <td>-0.010316</td>\n",
       "      <td>0.001066</td>\n",
       "      <td>-0.000229</td>\n",
       "      <td>0.007707</td>\n",
       "      <td>0.008972</td>\n",
       "      <td>0.013468</td>\n",
       "      <td>-0.013450</td>\n",
       "      <td>-0.000135</td>\n",
       "      <td>-0.013243</td>\n",
       "      <td>0.999999</td>\n",
       "      <td>0.012720</td>\n",
       "      <td>1.000000</td>\n",
       "      <td>-0.008615</td>\n",
       "      <td>-0.001099</td>\n",
       "      <td>-0.008517</td>\n",
       "      <td>0.005257</td>\n",
       "      <td>0.033635</td>\n",
       "    </tr>\n",
       "    <tr>\n",
       "      <th>Total intl minutes</th>\n",
       "      <td>-0.011202</td>\n",
       "      <td>0.011369</td>\n",
       "      <td>-0.013418</td>\n",
       "      <td>0.053162</td>\n",
       "      <td>-0.013963</td>\n",
       "      <td>-0.004156</td>\n",
       "      <td>-0.012979</td>\n",
       "      <td>0.031036</td>\n",
       "      <td>-0.011046</td>\n",
       "      <td>-0.006915</td>\n",
       "      <td>0.011012</td>\n",
       "      <td>-0.000797</td>\n",
       "      <td>-0.008607</td>\n",
       "      <td>-0.023447</td>\n",
       "      <td>-0.008615</td>\n",
       "      <td>1.000000</td>\n",
       "      <td>0.037315</td>\n",
       "      <td>0.999993</td>\n",
       "      <td>-0.002826</td>\n",
       "      <td>0.086204</td>\n",
       "    </tr>\n",
       "    <tr>\n",
       "      <th>Total intl calls</th>\n",
       "      <td>0.011980</td>\n",
       "      <td>0.017627</td>\n",
       "      <td>-0.027423</td>\n",
       "      <td>0.011549</td>\n",
       "      <td>0.015196</td>\n",
       "      <td>0.027013</td>\n",
       "      <td>0.000852</td>\n",
       "      <td>0.006928</td>\n",
       "      <td>0.005688</td>\n",
       "      <td>0.002160</td>\n",
       "      <td>0.003710</td>\n",
       "      <td>0.008778</td>\n",
       "      <td>-0.001110</td>\n",
       "      <td>0.019367</td>\n",
       "      <td>-0.001099</td>\n",
       "      <td>0.037315</td>\n",
       "      <td>1.000000</td>\n",
       "      <td>0.037363</td>\n",
       "      <td>-0.022143</td>\n",
       "      <td>-0.069882</td>\n",
       "    </tr>\n",
       "    <tr>\n",
       "      <th>Total intl charge</th>\n",
       "      <td>-0.011191</td>\n",
       "      <td>0.011383</td>\n",
       "      <td>-0.013534</td>\n",
       "      <td>0.053037</td>\n",
       "      <td>-0.013931</td>\n",
       "      <td>-0.004136</td>\n",
       "      <td>-0.012879</td>\n",
       "      <td>0.031133</td>\n",
       "      <td>-0.010938</td>\n",
       "      <td>-0.006947</td>\n",
       "      <td>0.011000</td>\n",
       "      <td>-0.000827</td>\n",
       "      <td>-0.008510</td>\n",
       "      <td>-0.023434</td>\n",
       "      <td>-0.008517</td>\n",
       "      <td>0.999993</td>\n",
       "      <td>0.037363</td>\n",
       "      <td>1.000000</td>\n",
       "      <td>-0.002895</td>\n",
       "      <td>0.086216</td>\n",
       "    </tr>\n",
       "    <tr>\n",
       "      <th>Customer service calls</th>\n",
       "      <td>-0.031970</td>\n",
       "      <td>0.002455</td>\n",
       "      <td>0.034442</td>\n",
       "      <td>-0.035955</td>\n",
       "      <td>-0.022054</td>\n",
       "      <td>-0.018787</td>\n",
       "      <td>-0.024164</td>\n",
       "      <td>-0.011945</td>\n",
       "      <td>-0.024548</td>\n",
       "      <td>-0.013192</td>\n",
       "      <td>0.001058</td>\n",
       "      <td>-0.015556</td>\n",
       "      <td>0.005236</td>\n",
       "      <td>-0.005677</td>\n",
       "      <td>0.005257</td>\n",
       "      <td>-0.002826</td>\n",
       "      <td>-0.022143</td>\n",
       "      <td>-0.002895</td>\n",
       "      <td>1.000000</td>\n",
       "      <td>0.202590</td>\n",
       "    </tr>\n",
       "    <tr>\n",
       "      <th>Churn</th>\n",
       "      <td>0.000430</td>\n",
       "      <td>0.017728</td>\n",
       "      <td>0.001019</td>\n",
       "      <td>0.277489</td>\n",
       "      <td>-0.099291</td>\n",
       "      <td>-0.086474</td>\n",
       "      <td>0.175103</td>\n",
       "      <td>0.018290</td>\n",
       "      <td>0.195689</td>\n",
       "      <td>0.072906</td>\n",
       "      <td>-0.001539</td>\n",
       "      <td>0.071765</td>\n",
       "      <td>0.033639</td>\n",
       "      <td>0.012262</td>\n",
       "      <td>0.033635</td>\n",
       "      <td>0.086204</td>\n",
       "      <td>-0.069882</td>\n",
       "      <td>0.086216</td>\n",
       "      <td>0.202590</td>\n",
       "      <td>1.000000</td>\n",
       "    </tr>\n",
       "  </tbody>\n",
       "</table>\n",
       "</div>"
      ],
      "text/plain": [
       "                           State  Account length  Area code  \\\n",
       "State                   1.000000       -0.007254   0.014550   \n",
       "Account length         -0.007254        1.000000  -0.008620   \n",
       "Area code               0.014550       -0.008620   1.000000   \n",
       "International plan     -0.003144        0.024500   0.047099   \n",
       "Voice mail plan        -0.018661        0.002448   0.007180   \n",
       "Number vmail messages  -0.011960       -0.002996  -0.000584   \n",
       "Total day minutes      -0.005074        0.006972  -0.022818   \n",
       "Total day calls         0.007068        0.038862  -0.009629   \n",
       "Total day charge       -0.004951        0.002843  -0.023130   \n",
       "Total eve minutes       0.009383       -0.015923   0.000679   \n",
       "Total eve calls        -0.011494        0.018552  -0.018602   \n",
       "Total eve charge        0.014553       -0.016938  -0.000930   \n",
       "Total night minutes     0.025277       -0.008994  -0.003353   \n",
       "Total night calls       0.005906       -0.024007   0.011455   \n",
       "Total night charge      0.025269       -0.008999  -0.003382   \n",
       "Total intl minutes     -0.011202        0.011369  -0.013418   \n",
       "Total intl calls        0.011980        0.017627  -0.027423   \n",
       "Total intl charge      -0.011191        0.011383  -0.013534   \n",
       "Customer service calls -0.031970        0.002455   0.034442   \n",
       "Churn                   0.000430        0.017728   0.001019   \n",
       "\n",
       "                        International plan  Voice mail plan  \\\n",
       "State                            -0.003144        -0.018661   \n",
       "Account length                    0.024500         0.002448   \n",
       "Area code                         0.047099         0.007180   \n",
       "International plan                1.000000         0.002131   \n",
       "Voice mail plan                   0.002131         1.000000   \n",
       "Number vmail messages             0.005858         0.957159   \n",
       "Total day minutes                 0.048971         0.017356   \n",
       "Total day calls                  -0.004277        -0.007541   \n",
       "Total day charge                  0.049555         0.013439   \n",
       "Total eve minutes                 0.026616         0.019132   \n",
       "Total eve calls                   0.010277         0.003404   \n",
       "Total eve charge                  0.020433         0.019658   \n",
       "Total night minutes              -0.010310         0.001065   \n",
       "Total night calls                 0.018081         0.013985   \n",
       "Total night charge               -0.010316         0.001066   \n",
       "Total intl minutes                0.053162        -0.013963   \n",
       "Total intl calls                  0.011549         0.015196   \n",
       "Total intl charge                 0.053037        -0.013931   \n",
       "Customer service calls           -0.035955        -0.022054   \n",
       "Churn                             0.277489        -0.099291   \n",
       "\n",
       "                        Number vmail messages  Total day minutes  \\\n",
       "State                               -0.011960          -0.005074   \n",
       "Account length                      -0.002996           0.006972   \n",
       "Area code                           -0.000584          -0.022818   \n",
       "International plan                   0.005858           0.048971   \n",
       "Voice mail plan                      0.957159           0.017356   \n",
       "Number vmail messages                1.000000           0.023825   \n",
       "Total day minutes                    0.023825           1.000000   \n",
       "Total day calls                     -0.009622           0.017760   \n",
       "Total day charge                     0.019027           0.987706   \n",
       "Total eve minutes                    0.011401           0.003428   \n",
       "Total eve calls                      0.005131           0.008978   \n",
       "Total eve charge                     0.012002           0.006165   \n",
       "Total night minutes                 -0.000224           0.007734   \n",
       "Total night calls                    0.008124           0.013720   \n",
       "Total night charge                  -0.000229           0.007707   \n",
       "Total intl minutes                  -0.004156          -0.012979   \n",
       "Total intl calls                     0.027013           0.000852   \n",
       "Total intl charge                   -0.004136          -0.012879   \n",
       "Customer service calls              -0.018787          -0.024164   \n",
       "Churn                               -0.086474           0.175103   \n",
       "\n",
       "                        Total day calls  Total day charge  Total eve minutes  \\\n",
       "State                          0.007068         -0.004951           0.009383   \n",
       "Account length                 0.038862          0.002843          -0.015923   \n",
       "Area code                     -0.009629         -0.023130           0.000679   \n",
       "International plan            -0.004277          0.049555           0.026616   \n",
       "Voice mail plan               -0.007541          0.013439           0.019132   \n",
       "Number vmail messages         -0.009622          0.019027           0.011401   \n",
       "Total day minutes              0.017760          0.987706           0.003428   \n",
       "Total day calls                1.000000          0.016787          -0.026003   \n",
       "Total day charge               0.016787          1.000000           0.004008   \n",
       "Total eve minutes             -0.026003          0.004008           1.000000   \n",
       "Total eve calls                0.006473          0.009056          -0.007654   \n",
       "Total eve charge              -0.023165          0.007176           0.990295   \n",
       "Total night minutes            0.008986          0.013495          -0.013414   \n",
       "Total night calls             -0.016776          0.015057           0.009017   \n",
       "Total night charge             0.008972          0.013468          -0.013450   \n",
       "Total intl minutes             0.031036         -0.011046          -0.006915   \n",
       "Total intl calls               0.006928          0.005688           0.002160   \n",
       "Total intl charge              0.031133         -0.010938          -0.006947   \n",
       "Customer service calls        -0.011945         -0.024548          -0.013192   \n",
       "Churn                          0.018290          0.195689           0.072906   \n",
       "\n",
       "                        Total eve calls  Total eve charge  \\\n",
       "State                         -0.011494          0.014553   \n",
       "Account length                 0.018552         -0.016938   \n",
       "Area code                     -0.018602         -0.000930   \n",
       "International plan             0.010277          0.020433   \n",
       "Voice mail plan                0.003404          0.019658   \n",
       "Number vmail messages          0.005131          0.012002   \n",
       "Total day minutes              0.008978          0.006165   \n",
       "Total day calls                0.006473         -0.023165   \n",
       "Total day charge               0.009056          0.007176   \n",
       "Total eve minutes             -0.007654          0.990295   \n",
       "Total eve calls                1.000000         -0.011192   \n",
       "Total eve charge              -0.011192          1.000000   \n",
       "Total night minutes           -0.000175         -0.013205   \n",
       "Total night calls              0.000797          0.007152   \n",
       "Total night charge            -0.000135         -0.013243   \n",
       "Total intl minutes             0.011012         -0.000797   \n",
       "Total intl calls               0.003710          0.008778   \n",
       "Total intl charge              0.011000         -0.000827   \n",
       "Customer service calls         0.001058         -0.015556   \n",
       "Churn                         -0.001539          0.071765   \n",
       "\n",
       "                        Total night minutes  Total night calls  \\\n",
       "State                              0.025277           0.005906   \n",
       "Account length                    -0.008994          -0.024007   \n",
       "Area code                         -0.003353           0.011455   \n",
       "International plan                -0.010310           0.018081   \n",
       "Voice mail plan                    0.001065           0.013985   \n",
       "Number vmail messages             -0.000224           0.008124   \n",
       "Total day minutes                  0.007734           0.013720   \n",
       "Total day calls                    0.008986          -0.016776   \n",
       "Total day charge                   0.013495           0.015057   \n",
       "Total eve minutes                 -0.013414           0.009017   \n",
       "Total eve calls                   -0.000175           0.000797   \n",
       "Total eve charge                  -0.013205           0.007152   \n",
       "Total night minutes                1.000000           0.012736   \n",
       "Total night calls                  0.012736           1.000000   \n",
       "Total night charge                 0.999999           0.012720   \n",
       "Total intl minutes                -0.008607          -0.023447   \n",
       "Total intl calls                  -0.001110           0.019367   \n",
       "Total intl charge                 -0.008510          -0.023434   \n",
       "Customer service calls             0.005236          -0.005677   \n",
       "Churn                              0.033639           0.012262   \n",
       "\n",
       "                        Total night charge  Total intl minutes  \\\n",
       "State                             0.025269           -0.011202   \n",
       "Account length                   -0.008999            0.011369   \n",
       "Area code                        -0.003382           -0.013418   \n",
       "International plan               -0.010316            0.053162   \n",
       "Voice mail plan                   0.001066           -0.013963   \n",
       "Number vmail messages            -0.000229           -0.004156   \n",
       "Total day minutes                 0.007707           -0.012979   \n",
       "Total day calls                   0.008972            0.031036   \n",
       "Total day charge                  0.013468           -0.011046   \n",
       "Total eve minutes                -0.013450           -0.006915   \n",
       "Total eve calls                  -0.000135            0.011012   \n",
       "Total eve charge                 -0.013243           -0.000797   \n",
       "Total night minutes               0.999999           -0.008607   \n",
       "Total night calls                 0.012720           -0.023447   \n",
       "Total night charge                1.000000           -0.008615   \n",
       "Total intl minutes               -0.008615            1.000000   \n",
       "Total intl calls                 -0.001099            0.037315   \n",
       "Total intl charge                -0.008517            0.999993   \n",
       "Customer service calls            0.005257           -0.002826   \n",
       "Churn                             0.033635            0.086204   \n",
       "\n",
       "                        Total intl calls  Total intl charge  \\\n",
       "State                           0.011980          -0.011191   \n",
       "Account length                  0.017627           0.011383   \n",
       "Area code                      -0.027423          -0.013534   \n",
       "International plan              0.011549           0.053037   \n",
       "Voice mail plan                 0.015196          -0.013931   \n",
       "Number vmail messages           0.027013          -0.004136   \n",
       "Total day minutes               0.000852          -0.012879   \n",
       "Total day calls                 0.006928           0.031133   \n",
       "Total day charge                0.005688          -0.010938   \n",
       "Total eve minutes               0.002160          -0.006947   \n",
       "Total eve calls                 0.003710           0.011000   \n",
       "Total eve charge                0.008778          -0.000827   \n",
       "Total night minutes            -0.001110          -0.008510   \n",
       "Total night calls               0.019367          -0.023434   \n",
       "Total night charge             -0.001099          -0.008517   \n",
       "Total intl minutes              0.037315           0.999993   \n",
       "Total intl calls                1.000000           0.037363   \n",
       "Total intl charge               0.037363           1.000000   \n",
       "Customer service calls         -0.022143          -0.002895   \n",
       "Churn                          -0.069882           0.086216   \n",
       "\n",
       "                        Customer service calls     Churn  \n",
       "State                                -0.031970  0.000430  \n",
       "Account length                        0.002455  0.017728  \n",
       "Area code                             0.034442  0.001019  \n",
       "International plan                   -0.035955  0.277489  \n",
       "Voice mail plan                      -0.022054 -0.099291  \n",
       "Number vmail messages                -0.018787 -0.086474  \n",
       "Total day minutes                    -0.024164  0.175103  \n",
       "Total day calls                      -0.011945  0.018290  \n",
       "Total day charge                     -0.024548  0.195689  \n",
       "Total eve minutes                    -0.013192  0.072906  \n",
       "Total eve calls                       0.001058 -0.001539  \n",
       "Total eve charge                     -0.015556  0.071765  \n",
       "Total night minutes                   0.005236  0.033639  \n",
       "Total night calls                    -0.005677  0.012262  \n",
       "Total night charge                    0.005257  0.033635  \n",
       "Total intl minutes                   -0.002826  0.086204  \n",
       "Total intl calls                     -0.022143 -0.069882  \n",
       "Total intl charge                    -0.002895  0.086216  \n",
       "Customer service calls                1.000000  0.202590  \n",
       "Churn                                 0.202590  1.000000  "
      ]
     },
     "execution_count": 27,
     "metadata": {},
     "output_type": "execute_result"
    }
   ],
   "source": [
    "\n",
    "data.corr()"
   ]
  },
  {
   "cell_type": "markdown",
   "id": "43f51314",
   "metadata": {},
   "source": [
    "#5) Create features and target data. Only select features data that are highly correlated with target data."
   ]
  },
  {
   "cell_type": "code",
   "execution_count": 28,
   "id": "bcf2b273",
   "metadata": {},
   "outputs": [],
   "source": [
    "\n",
    "x = data.drop(['Churn','Area code'],axis=1)\n",
    "y  =data['Churn']"
   ]
  },
  {
   "cell_type": "markdown",
   "id": "985dd321",
   "metadata": {},
   "source": [
    "#6) scale the target data(churn)"
   ]
  },
  {
   "cell_type": "code",
   "execution_count": 29,
   "id": "d42840fd",
   "metadata": {},
   "outputs": [],
   "source": [
    "\n",
    "#There is no need to scale the data beacuse the data is already in the [0,1] format."
   ]
  },
  {
   "cell_type": "markdown",
   "id": "8eb79d78",
   "metadata": {},
   "source": [
    "#split the data"
   ]
  },
  {
   "cell_type": "code",
   "execution_count": 30,
   "id": "feb36c43",
   "metadata": {},
   "outputs": [],
   "source": [
    "from sklearn.model_selection import train_test_split"
   ]
  },
  {
   "cell_type": "code",
   "execution_count": 31,
   "id": "e292dc47",
   "metadata": {},
   "outputs": [],
   "source": [
    "x_train,x_test,y_train,y_test = train_test_split(x,y,test_size=0.3,random_state=42)"
   ]
  },
  {
   "cell_type": "markdown",
   "id": "8356337d",
   "metadata": {},
   "source": [
    "#7) Check the shape of both training data and testing data"
   ]
  },
  {
   "cell_type": "code",
   "execution_count": 32,
   "id": "f0554202",
   "metadata": {},
   "outputs": [
    {
     "data": {
      "text/plain": [
       "((1866, 18), (1866,))"
      ]
     },
     "execution_count": 32,
     "metadata": {},
     "output_type": "execute_result"
    }
   ],
   "source": [
    "\n",
    "x_train.shape , y_train.shape"
   ]
  },
  {
   "cell_type": "code",
   "execution_count": 33,
   "id": "a3c0cf18",
   "metadata": {},
   "outputs": [
    {
     "data": {
      "text/plain": [
       "((800, 18), (800,))"
      ]
     },
     "execution_count": 33,
     "metadata": {},
     "output_type": "execute_result"
    }
   ],
   "source": [
    "x_test.shape , y_test.shape"
   ]
  },
  {
   "cell_type": "markdown",
   "id": "6a092765",
   "metadata": {},
   "source": [
    "#8) perform logistic regression"
   ]
  },
  {
   "cell_type": "code",
   "execution_count": 34,
   "id": "6b3eacfc",
   "metadata": {},
   "outputs": [],
   "source": [
    "from sklearn.linear_model import LogisticRegression"
   ]
  },
  {
   "cell_type": "code",
   "execution_count": 35,
   "id": "39a5faba",
   "metadata": {},
   "outputs": [],
   "source": [
    "from sklearn.metrics import accuracy_score,precision_score,recall_score,confusion_matrix,classification_report"
   ]
  },
  {
   "cell_type": "code",
   "execution_count": 36,
   "id": "a8a6ad89",
   "metadata": {},
   "outputs": [],
   "source": [
    "lrg_model = LogisticRegression(solver = 'liblinear')"
   ]
  },
  {
   "cell_type": "code",
   "execution_count": 37,
   "id": "d554cdbe",
   "metadata": {},
   "outputs": [
    {
     "data": {
      "text/plain": [
       "LogisticRegression(solver='liblinear')"
      ]
     },
     "execution_count": 37,
     "metadata": {},
     "output_type": "execute_result"
    }
   ],
   "source": [
    "lrg_model.fit(x_train,y_train)"
   ]
  },
  {
   "cell_type": "code",
   "execution_count": 38,
   "id": "2872a610",
   "metadata": {},
   "outputs": [
    {
     "data": {
      "text/plain": [
       "0.8675"
      ]
     },
     "execution_count": 38,
     "metadata": {},
     "output_type": "execute_result"
    }
   ],
   "source": [
    "lrg_model.score(x_test,y_test)"
   ]
  },
  {
   "cell_type": "markdown",
   "id": "b478dda7",
   "metadata": {},
   "source": [
    "#10) Perform Hyper parameter tuning "
   ]
  },
  {
   "cell_type": "code",
   "execution_count": 39,
   "id": "0fc40522",
   "metadata": {},
   "outputs": [],
   "source": [
    "from sklearn.model_selection import GridSearchCV"
   ]
  },
  {
   "cell_type": "code",
   "execution_count": 58,
   "id": "0ed867dc",
   "metadata": {},
   "outputs": [
    {
     "data": {
      "text/plain": [
       "GridSearchCV(cv=5, estimator=LogisticRegression(),\n",
       "             param_grid={'C': [1.0, 5, 10, 20], 'max_iter': [500, 700, 100],\n",
       "                         'solver': ['lbfgs', 'sag', 'saga', 'newton-cg']})"
      ]
     },
     "execution_count": 58,
     "metadata": {},
     "output_type": "execute_result"
    }
   ],
   "source": [
    "param_grid = {'C':[1.0,5,10,20],'solver':['lbfgs','sag','saga','newton-cg'],'max_iter':[500,700,100]}\n",
    "lr=LogisticRegression()\n",
    "\n",
    "grid_search = GridSearchCV(lr, param_grid, cv=5)\n",
    "grid_search.fit(x_train,y_train)\n",
    "\n"
   ]
  },
  {
   "cell_type": "code",
   "execution_count": 143,
   "id": "b2dee3fa",
   "metadata": {},
   "outputs": [
    {
     "name": "stdout",
     "output_type": "stream",
     "text": [
      "Best hyperparameters:  {'C': 1.0, 'max_iter': 500, 'solver': 'newton-cg'}\n",
      "Best score:  0.8794253845822999\n"
     ]
    }
   ],
   "source": [
    "print(\"Best hyperparameters: \", grid_search.best_params_)\n",
    "print(\"Best score: \", grid_search.best_score_)\n"
   ]
  },
  {
   "cell_type": "markdown",
   "id": "3f8a049f",
   "metadata": {},
   "source": [
    "SUPPORT VECTOR MACHINE"
   ]
  },
  {
   "cell_type": "markdown",
   "id": "938fb720",
   "metadata": {},
   "source": [
    "#13) Perform cross validation technique with SVM Classifier "
   ]
  },
  {
   "cell_type": "code",
   "execution_count": 45,
   "id": "abe72795",
   "metadata": {},
   "outputs": [],
   "source": [
    "\n",
    "from sklearn.svm import SVC"
   ]
  },
  {
   "cell_type": "code",
   "execution_count": 22,
   "id": "3ddc551c",
   "metadata": {},
   "outputs": [],
   "source": [
    "sc=SVC()"
   ]
  },
  {
   "cell_type": "code",
   "execution_count": 49,
   "id": "f6ad307f",
   "metadata": {},
   "outputs": [
    {
     "data": {
      "text/plain": [
       "SVC()"
      ]
     },
     "execution_count": 49,
     "metadata": {},
     "output_type": "execute_result"
    }
   ],
   "source": [
    "sc.fit(x_train,y_train)"
   ]
  },
  {
   "cell_type": "code",
   "execution_count": 50,
   "id": "7016cb0b",
   "metadata": {},
   "outputs": [
    {
     "data": {
      "text/plain": [
       "0.86375"
      ]
     },
     "execution_count": 50,
     "metadata": {},
     "output_type": "execute_result"
    }
   ],
   "source": [
    "sc.score(x_test,y_test)"
   ]
  },
  {
   "cell_type": "code",
   "execution_count": 51,
   "id": "2202b3b5",
   "metadata": {},
   "outputs": [
    {
     "data": {
      "text/plain": [
       "0.8628081457663451"
      ]
     },
     "execution_count": 51,
     "metadata": {},
     "output_type": "execute_result"
    }
   ],
   "source": [
    "sc.score(x_train,y_train)"
   ]
  },
  {
   "cell_type": "code",
   "execution_count": 47,
   "id": "506f2023",
   "metadata": {},
   "outputs": [],
   "source": [
    "from sklearn.model_selection import KFold,cross_val_score"
   ]
  },
  {
   "cell_type": "code",
   "execution_count": 48,
   "id": "4c67ba9d",
   "metadata": {},
   "outputs": [],
   "source": [
    "svm = SVC(kernel = 'rbf', C=1, random_state=42)\n",
    "kf = KFold(n_splits=5, shuffle=True, random_state=42)\n",
    "scores = []\n",
    "for train_index, test_index in kf.split(x_train):\n",
    "    x_train_fold, x_test_fold =  x_train.iloc[train_index], x_train.iloc[test_index]\n",
    "    y_train_fold, y_test_fold =  y_train.iloc[train_index], y_train.iloc[test_index]\n",
    "    svm .fit(x_train_fold, y_train_fold)\n",
    "    score = svm.score(x_test_fold, y_test_fold)\n",
    "    scores.append(score)\n",
    "    \n",
    "\n"
   ]
  },
  {
   "cell_type": "code",
   "execution_count": 49,
   "id": "c8d65452",
   "metadata": {},
   "outputs": [
    {
     "name": "stdout",
     "output_type": "stream",
     "text": [
      "cross-validation scores: [0.8850267379679144, 0.8498659517426274, 0.8418230563002681, 0.8552278820375335, 0.8659517426273459]\n"
     ]
    }
   ],
   "source": [
    "print('cross-validation scores:', scores)"
   ]
  },
  {
   "cell_type": "code",
   "execution_count": 50,
   "id": "09f5bed3",
   "metadata": {},
   "outputs": [
    {
     "name": "stdout",
     "output_type": "stream",
     "text": [
      "mean score: 0.8595790741351379\n",
      "standard deviation: 0.014944887332408641\n"
     ]
    }
   ],
   "source": [
    "print('mean score:', sum(scores)/len(scores))\n",
    "print('standard deviation:', np.std(scores))"
   ]
  },
  {
   "cell_type": "markdown",
   "id": "9f4578a6",
   "metadata": {},
   "source": [
    "NAIVE BAYES = GAUSSIAN NAIVE BAYES CLASSIFIER"
   ]
  },
  {
   "cell_type": "code",
   "execution_count": 134,
   "id": "1ca0c95a",
   "metadata": {},
   "outputs": [],
   "source": [
    "from sklearn.naive_bayes import GaussianNB"
   ]
  },
  {
   "cell_type": "code",
   "execution_count": 135,
   "id": "f3dd9351",
   "metadata": {},
   "outputs": [],
   "source": [
    "gb = GaussianNB()"
   ]
  },
  {
   "cell_type": "code",
   "execution_count": 136,
   "id": "aff0a274",
   "metadata": {},
   "outputs": [
    {
     "data": {
      "text/plain": [
       "GaussianNB()"
      ]
     },
     "execution_count": 136,
     "metadata": {},
     "output_type": "execute_result"
    }
   ],
   "source": [
    "gb.fit(x_train,y_train)"
   ]
  },
  {
   "cell_type": "code",
   "execution_count": 137,
   "id": "fa8b068e",
   "metadata": {},
   "outputs": [
    {
     "data": {
      "text/plain": [
       "0.8660235798499464"
      ]
     },
     "execution_count": 137,
     "metadata": {},
     "output_type": "execute_result"
    }
   ],
   "source": [
    "gb.score(x_train,y_train)"
   ]
  },
  {
   "cell_type": "code",
   "execution_count": 138,
   "id": "28202227",
   "metadata": {},
   "outputs": [
    {
     "data": {
      "text/plain": [
       "0.86125"
      ]
     },
     "execution_count": 138,
     "metadata": {},
     "output_type": "execute_result"
    }
   ],
   "source": [
    "gb.score(x_test,y_test)"
   ]
  },
  {
   "cell_type": "markdown",
   "id": "45e25393",
   "metadata": {},
   "source": [
    "BERNOULLI NAIVE BAYES CLASSIFIER"
   ]
  },
  {
   "cell_type": "code",
   "execution_count": 68,
   "id": "cb7bac71",
   "metadata": {},
   "outputs": [],
   "source": [
    "from sklearn.naive_bayes import BernoulliNB"
   ]
  },
  {
   "cell_type": "code",
   "execution_count": 69,
   "id": "c3a30f54",
   "metadata": {},
   "outputs": [],
   "source": [
    "bl =  BernoulliNB()"
   ]
  },
  {
   "cell_type": "code",
   "execution_count": 70,
   "id": "3d761a3c",
   "metadata": {},
   "outputs": [
    {
     "data": {
      "text/plain": [
       "BernoulliNB()"
      ]
     },
     "execution_count": 70,
     "metadata": {},
     "output_type": "execute_result"
    }
   ],
   "source": [
    "bl.fit(x_train,y_train)"
   ]
  },
  {
   "cell_type": "code",
   "execution_count": 71,
   "id": "89a3efb9",
   "metadata": {},
   "outputs": [
    {
     "data": {
      "text/plain": [
       "0.8478027867095391"
      ]
     },
     "execution_count": 71,
     "metadata": {},
     "output_type": "execute_result"
    }
   ],
   "source": [
    "bl.score(x_train,y_train)"
   ]
  },
  {
   "cell_type": "code",
   "execution_count": 72,
   "id": "f99fd92f",
   "metadata": {},
   "outputs": [
    {
     "data": {
      "text/plain": [
       "0.8475"
      ]
     },
     "execution_count": 72,
     "metadata": {},
     "output_type": "execute_result"
    }
   ],
   "source": [
    "bl.score(x_test,y_test)"
   ]
  },
  {
   "cell_type": "code",
   "execution_count": 73,
   "id": "35339623",
   "metadata": {},
   "outputs": [],
   "source": [
    "y_pred = bl.predict(x_test)"
   ]
  },
  {
   "cell_type": "code",
   "execution_count": 74,
   "id": "507586ab",
   "metadata": {},
   "outputs": [
    {
     "data": {
      "text/plain": [
       "array([[653,  30],\n",
       "       [ 92,  25]], dtype=int64)"
      ]
     },
     "execution_count": 74,
     "metadata": {},
     "output_type": "execute_result"
    }
   ],
   "source": [
    "confusion_matrix(y_test,y_pred)"
   ]
  },
  {
   "cell_type": "code",
   "execution_count": 75,
   "id": "a6bd8910",
   "metadata": {},
   "outputs": [
    {
     "name": "stdout",
     "output_type": "stream",
     "text": [
      "              precision    recall  f1-score   support\n",
      "\n",
      "           0       0.88      0.96      0.91       683\n",
      "           1       0.45      0.21      0.29       117\n",
      "\n",
      "    accuracy                           0.85       800\n",
      "   macro avg       0.67      0.58      0.60       800\n",
      "weighted avg       0.81      0.85      0.82       800\n",
      "\n"
     ]
    }
   ],
   "source": [
    "print(classification_report(y_test,y_pred))"
   ]
  },
  {
   "cell_type": "markdown",
   "id": "7b2e0a9a",
   "metadata": {},
   "source": [
    "Decision tree classifier"
   ]
  },
  {
   "cell_type": "code",
   "execution_count": 15,
   "id": "902656a9",
   "metadata": {},
   "outputs": [],
   "source": [
    "from sklearn.tree import DecisionTreeClassifier\n",
    "from sklearn.model_selection import GridSearchCV\n"
   ]
  },
  {
   "cell_type": "code",
   "execution_count": 16,
   "id": "b92ece8a",
   "metadata": {},
   "outputs": [],
   "source": [
    "dt = DecisionTreeClassifier()"
   ]
  },
  {
   "cell_type": "code",
   "execution_count": 17,
   "id": "95113cc5",
   "metadata": {},
   "outputs": [],
   "source": [
    "params = {\n",
    "    'max_depth': [2, 3, 4, 5],\n",
    "    'min_samples_split': [2, 3, 4, 5],\n",
    "    'min_samples_leaf': [1, 2, 3, 4],\n",
    "    'max_features': ['sqrt', 'log2']\n",
    "}\n"
   ]
  },
  {
   "cell_type": "code",
   "execution_count": 18,
   "id": "843bdcea",
   "metadata": {},
   "outputs": [
    {
     "name": "stdout",
     "output_type": "stream",
     "text": [
      "Best hyperparameters:  {'max_depth': 5, 'max_features': 'log2', 'min_samples_leaf': 3, 'min_samples_split': 2}\n",
      "Best score:  0.9062178320024085\n"
     ]
    }
   ],
   "source": [
    "grid_search = GridSearchCV(dt, param_grid=params, cv=5)\n",
    "grid_search.fit(x_train,y_train)\n",
    "\n",
    "print(\"Best hyperparameters: \", grid_search.best_params_)\n",
    "print(\"Best score: \", grid_search.best_score_)\n"
   ]
  },
  {
   "cell_type": "markdown",
   "id": "c30df28d",
   "metadata": {},
   "source": [
    "RANDOM FOREST CLASSIFIER"
   ]
  },
  {
   "cell_type": "code",
   "execution_count": 81,
   "id": "164b502d",
   "metadata": {},
   "outputs": [],
   "source": [
    "from sklearn.ensemble import RandomForestClassifier\n",
    "\n",
    "params_rf = {'max_depth': 16,\n",
    "             'min_samples_leaf': 1,\n",
    "             'min_samples_split': 2,\n",
    "             'n_estimators': 100,\n",
    "             'random_state': 12345}\n",
    "\n",
    "model_rf = RandomForestClassifier(**params_rf)"
   ]
  },
  {
   "cell_type": "code",
   "execution_count": 83,
   "id": "75b37a9b",
   "metadata": {},
   "outputs": [
    {
     "data": {
      "text/plain": [
       "RandomForestClassifier(max_depth=16, random_state=12345)"
      ]
     },
     "execution_count": 83,
     "metadata": {},
     "output_type": "execute_result"
    }
   ],
   "source": [
    "model_rf.fit(x_train,y_train)"
   ]
  },
  {
   "cell_type": "code",
   "execution_count": 84,
   "id": "5329f737",
   "metadata": {},
   "outputs": [
    {
     "data": {
      "text/plain": [
       "0.95125"
      ]
     },
     "execution_count": 84,
     "metadata": {},
     "output_type": "execute_result"
    }
   ],
   "source": [
    "model_rf.score(x_test,y_test)"
   ]
  },
  {
   "cell_type": "code",
   "execution_count": 85,
   "id": "44f4a52f",
   "metadata": {},
   "outputs": [],
   "source": [
    "def run_model(model, x_train, y_train, x_test, y_test):\n",
    "    model.fit(x_train,y_train)\n",
    "    y_pred = model.predict(x_test)\n",
    "    accuracy = accuracy_score(y_test, y_pred)\n",
    "    print(\"pricison_score: \",precision_score(y_test, y_pred))\n",
    "    print(\"recall_score: \",recall_score(y_test, y_pred))\n",
    "    print(\"Accuracy = {}\".format(accuracy))\n",
    "    print(classification_report(y_test,y_pred,digits=5))\n",
    "    print(confusion_matrix(y_test,y_pred))\n",
    "    "
   ]
  },
  {
   "cell_type": "code",
   "execution_count": 86,
   "id": "69584494",
   "metadata": {},
   "outputs": [
    {
     "name": "stdout",
     "output_type": "stream",
     "text": [
      "pricison_score:  0.975609756097561\n",
      "recall_score:  0.6837606837606838\n",
      "Accuracy = 0.95125\n",
      "              precision    recall  f1-score   support\n",
      "\n",
      "           0    0.94847   0.99707   0.97216       683\n",
      "           1    0.97561   0.68376   0.80402       117\n",
      "\n",
      "    accuracy                        0.95125       800\n",
      "   macro avg    0.96204   0.84042   0.88809       800\n",
      "weighted avg    0.95244   0.95125   0.94757       800\n",
      "\n",
      "[[681   2]\n",
      " [ 37  80]]\n"
     ]
    }
   ],
   "source": [
    "run_model(model_rf,x_train, y_train, x_test, y_test)"
   ]
  },
  {
   "cell_type": "markdown",
   "id": "60335b71",
   "metadata": {},
   "source": [
    "Perform cross validation"
   ]
  },
  {
   "cell_type": "code",
   "execution_count": 42,
   "id": "00bd172f",
   "metadata": {},
   "outputs": [],
   "source": [
    "from sklearn.model_selection import KFold,cross_val_score"
   ]
  },
  {
   "cell_type": "code",
   "execution_count": 48,
   "id": "cd88123c",
   "metadata": {},
   "outputs": [
    {
     "name": "stdout",
     "output_type": "stream",
     "text": [
      "KNN 0.037738108952263386\n",
      "CART 0.24802743513317385\n",
      "RF 0.6318130888886715\n",
      "SVM 0.15941925553412328\n",
      "AdaBoost 0.3265015186686442\n"
     ]
    }
   ],
   "source": [
    "models = []\n",
    "models.append(('KNN', KNeighborsRegressor()))\n",
    "models.append(('CART', DecisionTreeRegressor()))\n",
    "models.append(('RF', RandomForestRegressor()))\n",
    "models.append(('SVM', SVR()))\n",
    "models.append(('AdaBoost', AdaBoostRegressor()))\n",
    "\n",
    "\n",
    "\n",
    "results = []\n",
    "names = []\n",
    "for name,model in models:\n",
    "    kfold = KFold(n_splits=10)\n",
    "    cv_result =cross_val_score(model,x_train,y_train,cv=kfold)\n",
    "    names.append(name)\n",
    "    results.append(cv_result)\n",
    "for i in range(len(names)):\n",
    "    print(names[i],results[i].mean())"
   ]
  },
  {
   "cell_type": "markdown",
   "id": "de59e843",
   "metadata": {},
   "source": [
    "#15) Perform k-means clustering on dataset and divide it into four clusters"
   ]
  },
  {
   "cell_type": "markdown",
   "id": "86ea39f3",
   "metadata": {},
   "source": [
    "K MEANS CLUSTERING"
   ]
  },
  {
   "cell_type": "code",
   "execution_count": 52,
   "id": "d1ba797a",
   "metadata": {},
   "outputs": [],
   "source": [
    "\n",
    "\n",
    "from sklearn.cluster import AgglomerativeClustering"
   ]
  },
  {
   "cell_type": "code",
   "execution_count": 53,
   "id": "d6985bf7",
   "metadata": {},
   "outputs": [],
   "source": [
    "from sklearn.cluster import KMeans\n"
   ]
  },
  {
   "cell_type": "code",
   "execution_count": 54,
   "id": "81a5b933",
   "metadata": {},
   "outputs": [
    {
     "data": {
      "text/plain": [
       "KMeans(n_clusters=4)"
      ]
     },
     "execution_count": 54,
     "metadata": {},
     "output_type": "execute_result"
    }
   ],
   "source": [
    "cls = KMeans(n_clusters = 4, )\n",
    "cls.fit(x_train,y_train)"
   ]
  },
  {
   "cell_type": "code",
   "execution_count": 55,
   "id": "cc7c0e87",
   "metadata": {},
   "outputs": [
    {
     "data": {
      "text/plain": [
       "-67953541.43745232"
      ]
     },
     "execution_count": 55,
     "metadata": {},
     "output_type": "execute_result"
    }
   ],
   "source": [
    "cls.score(x_test,y_test)"
   ]
  },
  {
   "cell_type": "code",
   "execution_count": 56,
   "id": "72f3fb09",
   "metadata": {},
   "outputs": [
    {
     "data": {
      "text/plain": [
       "145939442.96080354"
      ]
     },
     "execution_count": 56,
     "metadata": {},
     "output_type": "execute_result"
    }
   ],
   "source": [
    "wcss = cls.inertia_\n",
    "wcss"
   ]
  },
  {
   "cell_type": "code",
   "execution_count": 57,
   "id": "9b9f25a4",
   "metadata": {},
   "outputs": [
    {
     "data": {
      "image/png": "[encoded data removed]",
      "text/plain": [
       "<Figure size 720x360 with 1 Axes>"
      ]
     },
     "metadata": {
      "needs_background": "light"
     },
     "output_type": "display_data"
    }
   ],
   "source": [
    "plt.figure(figsize=(10,5))\n",
    "sns.lineplot(range(1, 11), wcss,marker='o',color='orange')\n",
    "plt.title('The Elbow Method')\n",
    "plt.xlabel('Number of clusters')\n",
    "plt.ylabel('WCSS')\n",
    "plt.show()\n"
   ]
  }
 ],
 "metadata": {
  "kernelspec": {
   "display_name": "Python 3",
   "language": "python",
   "name": "python3"
  },
  "language_info": {
   "codemirror_mode": {
    "name": "ipython",
    "version": 3
   },
   "file_extension": ".py",
   "mimetype": "text/x-python",
   "name": "python",
   "nbconvert_exporter": "python",
   "pygments_lexer": "ipython3",
   "version": "3.8.8"
  }
 },
 "nbformat": 4,
 "nbformat_minor": 5
}
